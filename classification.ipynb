{
 "cells": [
  {
   "cell_type": "code",
   "execution_count": 1,
   "metadata": {
    "collapsed": false
   },
   "outputs": [],
   "source": [
    "%matplotlib inline\n",
    "from sklearn import svm\n",
    "from sklearn.linear_model import LogisticRegression\n",
    "from sklearn import preprocessing\n",
    "from sklearn.cross_validation import KFold\n",
    "import scipy as sp\n",
    "import pandas as pd\n",
    "import numpy as np\n",
    "from sklearn.grid_search import GridSearchCV\n",
    "from sklearn.pipeline import Pipeline\n",
    "from sklearn.ensemble import GradientBoostingClassifier\n",
    "import pymystem3"
   ]
  },
  {
   "cell_type": "code",
   "execution_count": 2,
   "metadata": {
    "collapsed": true
   },
   "outputs": [],
   "source": [
    "# В этой клетке задается функция part_speech, которая по входному массиву-результату работы mystem analyse возвращает тупл,\n",
    "# к котром первый элемент векторм из 9 элементов, каждому из которого соответствует количество одной из восьми частей речи\n",
    "# в массиве, а второй - это сам массив, в котором слова заменяны на пронумерованные части речи\n",
    "# Функции part_vec и part_seq возвращают первый и второй элементы тупла\n",
    "\n",
    "def part_speech(a):\n",
    "    v = [0] * 9\n",
    "    res = []\n",
    "    for i in range(0, len(a), 2):\n",
    "        try:\n",
    "            name = a[i]['analysis'][0]['gr']\n",
    "        except:\n",
    "            name = 'OOOU'\n",
    "            res.append('OOOU')\n",
    "        if name[0] == 'S':\n",
    "            res.append(0)\n",
    "            v[0] += 1\n",
    "        elif name[:3] == 'ADV' or name[:6] == 'ADVPRO':           \n",
    "            res.append(1)\n",
    "            v[1] += 1\n",
    "        elif name[0] == 'A' or name[:4] == 'ANUM' or name[:4] == 'APRO':            \n",
    "            res.append(2)\n",
    "            v[2] += 1\n",
    "        elif name[:2] == 'PR':            \n",
    "            res.append(3)\n",
    "            v[3] += 1\n",
    "        elif name[:4] == 'CONJ':            \n",
    "            res.append(4)\n",
    "            v[4] += 1\n",
    "        elif name[:4] == 'PART':            \n",
    "            res.append(5)\n",
    "            v[5] += 1\n",
    "        elif name[0] == 'V':            \n",
    "            res.append(6)\n",
    "            v[6] += 1\n",
    "        elif name.find('NUM') != -1:            \n",
    "            res.append(7)\n",
    "            v[7] += 1\n",
    "        elif name[:4] == 'INTJ':            \n",
    "            res.append(8)\n",
    "            v[8] += 1\n",
    "    \n",
    "    return (v, res)\n",
    "        \n",
    "def part_vec(a):\n",
    "    return part_speech(a)[0]\n",
    "\n",
    "def part_seq(a):\n",
    "    return part_speech(a)[1]"
   ]
  },
  {
   "cell_type": "code",
   "execution_count": 3,
   "metadata": {
    "collapsed": false
   },
   "outputs": [],
   "source": [
    "# В этой клетке считывается датасет, все предложения превращаются в строку, разделенную запятыми по исходным предложениям,\n",
    "# применяется майстем анализ, результат которого дальше разбивается опять на предложения\n",
    "# далее формируются столбцы датафрейма - предложение-массив со словами, заменными частями речи, массив количества частей речи\n",
    "# в предложении, количество слов в предложении\n",
    "\n",
    "\n",
    "df = pd.read_csv(\"text.csv\")\n",
    "text = ''\n",
    "for i in range(len(df)):\n",
    "    text = text + df.iat[i,0] + ','\n",
    "\n",
    "ms = pymystem3.Mystem()    \n",
    "text_analysis = ms.analyze(text)\n",
    "\n",
    "m = []\n",
    "\n",
    "for i in range(len(text_analysis)):\n",
    "    if str(text_analysis[i]) == '{\\'text\\': \\',\\'}':\n",
    "        m.append(i)\n",
    "        \n",
    "text_analysis_array = [''] * len(df)\n",
    "text_analysis_array[0] = text_analysis[:m[0]] \n",
    "\n",
    "for i in range(1, len(df) - 1):\n",
    "    text_analysis_array[i] = text_analysis[m[i - 1] + 1 : m[i]] \n",
    "  \n",
    "s = pd.Series(text_analysis_array, name='prvec_prev')\n",
    "\n",
    "df['prvec_prev'] = s\n",
    "df['pvec'] = df['prvec_prev'].to_frame().applymap(part_vec)\n",
    "df['pseq'] = df['prvec_prev'].to_frame().applymap(part_seq)\n",
    "del df['prvec_prev']\n",
    "\n",
    "for i in range(9):\n",
    "    df[i] = df['pvec'].to_frame().applymap(lambda x: x[i])\n",
    "    \n",
    "df['len'] = df['pseq'].to_frame().applymap(lambda x: len(x))"
   ]
  },
  {
   "cell_type": "code",
   "execution_count": 4,
   "metadata": {
    "collapsed": false
   },
   "outputs": [],
   "source": [
    "# в этой клетке задается функция, подчитывающая количество встречающихся пар в предложении\n",
    "def find_neib(a, n, m):\n",
    "    res = 0\n",
    "    for k in range(len(a) - 1):\n",
    "        if a[k : k + 2] == [n, m]:\n",
    "            res += 1\n",
    "    return res"
   ]
  },
  {
   "cell_type": "code",
   "execution_count": 5,
   "metadata": {
    "collapsed": true
   },
   "outputs": [],
   "source": [
    "def find_neib3(a, n, m, l):\n",
    "    res = 0\n",
    "    for k in range(len(a) - 2):\n",
    "        \n",
    "        if a[k : k + 3] == [n, m, l]:\n",
    "            res += 1\n",
    "    return res"
   ]
  },
  {
   "cell_type": "code",
   "execution_count": 6,
   "metadata": {
    "collapsed": false
   },
   "outputs": [],
   "source": [
    "#здесь заводятся столбцы датафрейма - количество соседствствующих пар частей речи в предложении\n",
    "feat_pair = [0, 1, 2, 3, 4, 5, 6, 7, 8]\n",
    "for i in feat_pair:\n",
    "    for j in feat_pair:\n",
    "        df[str(i) + str(j)] = df['pseq'].to_frame().applymap(lambda x: find_neib(x, i, j))"
   ]
  },
  {
   "cell_type": "code",
   "execution_count": 7,
   "metadata": {
    "collapsed": false
   },
   "outputs": [
    {
     "data": {
      "text/html": [
       "<div>\n",
       "<table border=\"1\" class=\"dataframe\">\n",
       "  <thead>\n",
       "    <tr style=\"text-align: right;\">\n",
       "      <th></th>\n",
       "      <th>txt</th>\n",
       "      <th>is_natural</th>\n",
       "      <th>pvec</th>\n",
       "      <th>pseq</th>\n",
       "      <th>0</th>\n",
       "      <th>1</th>\n",
       "      <th>2</th>\n",
       "      <th>3</th>\n",
       "      <th>4</th>\n",
       "      <th>5</th>\n",
       "      <th>...</th>\n",
       "      <th>78</th>\n",
       "      <th>80</th>\n",
       "      <th>81</th>\n",
       "      <th>82</th>\n",
       "      <th>83</th>\n",
       "      <th>84</th>\n",
       "      <th>85</th>\n",
       "      <th>86</th>\n",
       "      <th>87</th>\n",
       "      <th>88</th>\n",
       "    </tr>\n",
       "  </thead>\n",
       "  <tbody>\n",
       "    <tr>\n",
       "      <th>0</th>\n",
       "      <td>вдогонку спрашивать он</td>\n",
       "      <td>1.0</td>\n",
       "      <td>[1, 1, 0, 0, 0, 0, 1, 0, 0]</td>\n",
       "      <td>[1, 6, 0]</td>\n",
       "      <td>1</td>\n",
       "      <td>1</td>\n",
       "      <td>0</td>\n",
       "      <td>0</td>\n",
       "      <td>0</td>\n",
       "      <td>0</td>\n",
       "      <td>...</td>\n",
       "      <td>0</td>\n",
       "      <td>0</td>\n",
       "      <td>0</td>\n",
       "      <td>0</td>\n",
       "      <td>0</td>\n",
       "      <td>0</td>\n",
       "      <td>0</td>\n",
       "      <td>0</td>\n",
       "      <td>0</td>\n",
       "      <td>0</td>\n",
       "    </tr>\n",
       "    <tr>\n",
       "      <th>1</th>\n",
       "      <td>почему вы всегда всегда правый</td>\n",
       "      <td>1.0</td>\n",
       "      <td>[1, 3, 1, 0, 0, 0, 0, 0, 0]</td>\n",
       "      <td>[1, 0, 1, 1, 2]</td>\n",
       "      <td>1</td>\n",
       "      <td>3</td>\n",
       "      <td>1</td>\n",
       "      <td>0</td>\n",
       "      <td>0</td>\n",
       "      <td>0</td>\n",
       "      <td>...</td>\n",
       "      <td>0</td>\n",
       "      <td>0</td>\n",
       "      <td>0</td>\n",
       "      <td>0</td>\n",
       "      <td>0</td>\n",
       "      <td>0</td>\n",
       "      <td>0</td>\n",
       "      <td>0</td>\n",
       "      <td>0</td>\n",
       "      <td>0</td>\n",
       "    </tr>\n",
       "    <tr>\n",
       "      <th>2</th>\n",
       "      <td>же</td>\n",
       "      <td>0.0</td>\n",
       "      <td>[0, 0, 0, 0, 0, 1, 0, 0, 0]</td>\n",
       "      <td>[5]</td>\n",
       "      <td>0</td>\n",
       "      <td>0</td>\n",
       "      <td>0</td>\n",
       "      <td>0</td>\n",
       "      <td>0</td>\n",
       "      <td>1</td>\n",
       "      <td>...</td>\n",
       "      <td>0</td>\n",
       "      <td>0</td>\n",
       "      <td>0</td>\n",
       "      <td>0</td>\n",
       "      <td>0</td>\n",
       "      <td>0</td>\n",
       "      <td>0</td>\n",
       "      <td>0</td>\n",
       "      <td>0</td>\n",
       "      <td>0</td>\n",
       "    </tr>\n",
       "    <tr>\n",
       "      <th>3</th>\n",
       "      <td>зависть не зависть но нечто болезненный шевели...</td>\n",
       "      <td>1.0</td>\n",
       "      <td>[4, 0, 1, 1, 1, 1, 1, 0, 0]</td>\n",
       "      <td>[0, 5, 0, 4, 0, 2, 6, 3, 0]</td>\n",
       "      <td>4</td>\n",
       "      <td>0</td>\n",
       "      <td>1</td>\n",
       "      <td>1</td>\n",
       "      <td>1</td>\n",
       "      <td>1</td>\n",
       "      <td>...</td>\n",
       "      <td>0</td>\n",
       "      <td>0</td>\n",
       "      <td>0</td>\n",
       "      <td>0</td>\n",
       "      <td>0</td>\n",
       "      <td>0</td>\n",
       "      <td>0</td>\n",
       "      <td>0</td>\n",
       "      <td>0</td>\n",
       "      <td>0</td>\n",
       "    </tr>\n",
       "    <tr>\n",
       "      <th>4</th>\n",
       "      <td>с обратимый пленка</td>\n",
       "      <td>1.0</td>\n",
       "      <td>[1, 0, 1, 1, 0, 0, 0, 0, 0]</td>\n",
       "      <td>[3, 2, 0]</td>\n",
       "      <td>1</td>\n",
       "      <td>0</td>\n",
       "      <td>1</td>\n",
       "      <td>1</td>\n",
       "      <td>0</td>\n",
       "      <td>0</td>\n",
       "      <td>...</td>\n",
       "      <td>0</td>\n",
       "      <td>0</td>\n",
       "      <td>0</td>\n",
       "      <td>0</td>\n",
       "      <td>0</td>\n",
       "      <td>0</td>\n",
       "      <td>0</td>\n",
       "      <td>0</td>\n",
       "      <td>0</td>\n",
       "      <td>0</td>\n",
       "    </tr>\n",
       "  </tbody>\n",
       "</table>\n",
       "<p>5 rows × 95 columns</p>\n",
       "</div>"
      ],
      "text/plain": [
       "                                                 txt  is_natural  \\\n",
       "0                             вдогонку спрашивать он         1.0   \n",
       "1                     почему вы всегда всегда правый         1.0   \n",
       "2                                                 же         0.0   \n",
       "3  зависть не зависть но нечто болезненный шевели...         1.0   \n",
       "4                                 с обратимый пленка         1.0   \n",
       "\n",
       "                          pvec                         pseq  0  1  2  3  4  5  \\\n",
       "0  [1, 1, 0, 0, 0, 0, 1, 0, 0]                    [1, 6, 0]  1  1  0  0  0  0   \n",
       "1  [1, 3, 1, 0, 0, 0, 0, 0, 0]              [1, 0, 1, 1, 2]  1  3  1  0  0  0   \n",
       "2  [0, 0, 0, 0, 0, 1, 0, 0, 0]                          [5]  0  0  0  0  0  1   \n",
       "3  [4, 0, 1, 1, 1, 1, 1, 0, 0]  [0, 5, 0, 4, 0, 2, 6, 3, 0]  4  0  1  1  1  1   \n",
       "4  [1, 0, 1, 1, 0, 0, 0, 0, 0]                    [3, 2, 0]  1  0  1  1  0  0   \n",
       "\n",
       "  ...  78  80  81  82  83  84  85  86  87  88  \n",
       "0 ...   0   0   0   0   0   0   0   0   0   0  \n",
       "1 ...   0   0   0   0   0   0   0   0   0   0  \n",
       "2 ...   0   0   0   0   0   0   0   0   0   0  \n",
       "3 ...   0   0   0   0   0   0   0   0   0   0  \n",
       "4 ...   0   0   0   0   0   0   0   0   0   0  \n",
       "\n",
       "[5 rows x 95 columns]"
      ]
     },
     "execution_count": 7,
     "metadata": {},
     "output_type": "execute_result"
    }
   ],
   "source": [
    "df.head()"
   ]
  },
  {
   "cell_type": "code",
   "execution_count": 8,
   "metadata": {
    "collapsed": false
   },
   "outputs": [],
   "source": [
    "# в этой клетке указываются фичи, которые мы будет использовать при классификации\n",
    "frames = []\n",
    "for i in range(9):\n",
    "    frames.append(df[i])\n",
    "    \n",
    "for i in feat_pair:\n",
    "    for j in feat_pair:\n",
    "        frames.append(df[str(i) + str(j)])\n",
    "X_text = pd.concat(frames, axis=1)\n",
    "y = df['is_natural']"
   ]
  },
  {
   "cell_type": "code",
   "execution_count": 9,
   "metadata": {
    "collapsed": false
   },
   "outputs": [
    {
     "name": "stdout",
     "output_type": "stream",
     "text": [
      "Fitting 3 folds for each of 42 candidates, totalling 126 fits\n"
     ]
    },
    {
     "name": "stderr",
     "output_type": "stream",
     "text": [
      "[Parallel(n_jobs=4)]: Done  42 tasks      | elapsed:   13.7s\n",
      "[Parallel(n_jobs=4)]: Done 126 out of 126 | elapsed:  1.6min finished\n"
     ]
    },
    {
     "name": "stdout",
     "output_type": "stream",
     "text": [
      "\n",
      "Best parameters set found on development set:\n",
      "\n",
      "{'classification__degree': 2, 'classification__C': 2, 'classification__kernel': 'linear'}\n",
      "\n",
      "\n",
      "Grid scores on development set:\n",
      "\n",
      "[mean: 0.78339, std: 0.01317, params: {'classification__degree': 2, 'classification__kernel': 'linear', 'classification__C': 0.5}, mean: 0.70031, std: 0.03647, params: {'classification__degree': 2, 'classification__C': 0.5, 'classification__kernel': 'poly'}, mean: 0.75388, std: 0.01646, params: {'classification__degree': 2, 'classification__C': 0.5, 'classification__kernel': 'rbf'}, mean: 0.78339, std: 0.01317, params: {'classification__degree': 3, 'classification__C': 0.5, 'classification__kernel': 'linear'}, mean: 0.65528, std: 0.02947, params: {'classification__degree': 3, 'classification__kernel': 'poly', 'classification__C': 0.5}, mean: 0.75388, std: 0.01646, params: {'classification__degree': 3, 'classification__C': 0.5, 'classification__kernel': 'rbf'}, mean: 0.78261, std: 0.00867, params: {'classification__degree': 2, 'classification__C': 1, 'classification__kernel': 'linear'}, mean: 0.70342, std: 0.03043, params: {'classification__degree': 2, 'classification__C': 1, 'classification__kernel': 'poly'}, mean: 0.76630, std: 0.01715, params: {'classification__degree': 2, 'classification__kernel': 'rbf', 'classification__C': 1}, mean: 0.78261, std: 0.00867, params: {'classification__degree': 3, 'classification__C': 1, 'classification__kernel': 'linear'}, mean: 0.66304, std: 0.02910, params: {'classification__degree': 3, 'classification__C': 1, 'classification__kernel': 'poly'}, mean: 0.76630, std: 0.01715, params: {'classification__degree': 3, 'classification__C': 1, 'classification__kernel': 'rbf'}, mean: 0.79270, std: 0.01318, params: {'classification__degree': 2, 'classification__C': 2, 'classification__kernel': 'linear'}, mean: 0.72205, std: 0.01810, params: {'classification__degree': 2, 'classification__C': 2, 'classification__kernel': 'poly'}, mean: 0.77795, std: 0.01905, params: {'classification__degree': 2, 'classification__C': 2, 'classification__kernel': 'rbf'}, mean: 0.79270, std: 0.01318, params: {'classification__degree': 3, 'classification__C': 2, 'classification__kernel': 'linear'}, mean: 0.66382, std: 0.03236, params: {'classification__degree': 3, 'classification__kernel': 'poly', 'classification__C': 2}, mean: 0.77795, std: 0.01905, params: {'classification__degree': 3, 'classification__C': 2, 'classification__kernel': 'rbf'}, mean: 0.79115, std: 0.00667, params: {'classification__degree': 2, 'classification__C': 5, 'classification__kernel': 'linear'}, mean: 0.74767, std: 0.01070, params: {'classification__degree': 2, 'classification__C': 5, 'classification__kernel': 'poly'}, mean: 0.77640, std: 0.01224, params: {'classification__degree': 2, 'classification__C': 5, 'classification__kernel': 'rbf'}, mean: 0.79115, std: 0.00667, params: {'classification__degree': 3, 'classification__C': 5, 'classification__kernel': 'linear'}, mean: 0.67702, std: 0.01530, params: {'classification__degree': 3, 'classification__C': 5, 'classification__kernel': 'poly'}, mean: 0.77640, std: 0.01224, params: {'classification__degree': 3, 'classification__C': 5, 'classification__kernel': 'rbf'}, mean: 0.79115, std: 0.00477, params: {'classification__degree': 2, 'classification__C': 10, 'classification__kernel': 'linear'}, mean: 0.75466, std: 0.01070, params: {'classification__degree': 2, 'classification__C': 10, 'classification__kernel': 'poly'}, mean: 0.77174, std: 0.01601, params: {'classification__degree': 2, 'classification__C': 10, 'classification__kernel': 'rbf'}, mean: 0.79115, std: 0.00477, params: {'classification__degree': 3, 'classification__C': 10, 'classification__kernel': 'linear'}, mean: 0.69953, std: 0.01139, params: {'classification__degree': 3, 'classification__kernel': 'poly', 'classification__C': 10}, mean: 0.77174, std: 0.01601, params: {'classification__degree': 3, 'classification__C': 10, 'classification__kernel': 'rbf'}, mean: 0.78960, std: 0.00457, params: {'classification__degree': 2, 'classification__C': 100, 'classification__kernel': 'linear'}, mean: 0.77096, std: 0.00452, params: {'classification__degree': 2, 'classification__C': 100, 'classification__kernel': 'poly'}, mean: 0.75078, std: 0.02308, params: {'classification__degree': 2, 'classification__C': 100, 'classification__kernel': 'rbf'}, mean: 0.78960, std: 0.00457, params: {'classification__degree': 3, 'classification__C': 100, 'classification__kernel': 'linear'}, mean: 0.73835, std: 0.00881, params: {'classification__degree': 3, 'classification__kernel': 'poly', 'classification__C': 100}, mean: 0.75078, std: 0.02308, params: {'classification__degree': 3, 'classification__kernel': 'rbf', 'classification__C': 100}, mean: 0.79037, std: 0.00319, params: {'classification__degree': 2, 'classification__C': 200, 'classification__kernel': 'linear'}, mean: 0.77717, std: 0.00857, params: {'classification__degree': 2, 'classification__C': 200, 'classification__kernel': 'poly'}, mean: 0.75233, std: 0.03051, params: {'classification__degree': 2, 'classification__C': 200, 'classification__kernel': 'rbf'}, mean: 0.79037, std: 0.00319, params: {'classification__degree': 3, 'classification__C': 200, 'classification__kernel': 'linear'}, mean: 0.74845, std: 0.01355, params: {'classification__degree': 3, 'classification__kernel': 'poly', 'classification__C': 200}, mean: 0.75233, std: 0.03051, params: {'classification__degree': 3, 'classification__kernel': 'rbf', 'classification__C': 200}]\n",
      "\n",
      "Used scorer:\t make_scorer(accuracy_score)\n",
      "\n",
      "Best score:\t 0.792701863354\n"
     ]
    }
   ],
   "source": [
    "# тестирование модели svm\n",
    "model = svm.SVC(random_state=42)\n",
    "\n",
    "pipeline = Pipeline([\n",
    "    ('classification', model),\n",
    "])\n",
    "\n",
    "n_fold = 3\n",
    "param_grid = {'classification__C':[0.5, 1, 2, 5, 10, 100, 200], 'classification__degree':[2,3],'classification__kernel':['linear','poly','rbf']}     \n",
    "cv = KFold(n=df.shape[0], n_folds=n_fold, shuffle=True, random_state=42)\n",
    "    \n",
    "\n",
    "clf = GridSearchCV(estimator=pipeline, cv=cv, param_grid=param_grid, n_jobs=4, verbose=1, scoring=\"accuracy\")\n",
    "clf.fit(X_text, y) \n",
    "print(\"\\nBest parameters set found on development set:\\n\")\n",
    "print(clf.best_params_)\n",
    "print(\"\\n\\nGrid scores on development set:\\n\")\n",
    "means = clf.grid_scores_\n",
    "print(means)\n",
    "scorer = clf.scorer_\n",
    "print(\"\\nUsed scorer:\\t\", scorer)\n",
    "print(\"\\nBest score:\\t\", clf.best_score_)"
   ]
  },
  {
   "cell_type": "code",
   "execution_count": 10,
   "metadata": {
    "collapsed": false
   },
   "outputs": [
    {
     "name": "stdout",
     "output_type": "stream",
     "text": [
      "Fitting 3 folds for each of 18 candidates, totalling 54 fits\n"
     ]
    },
    {
     "name": "stderr",
     "output_type": "stream",
     "text": [
      "[Parallel(n_jobs=4)]: Done  42 tasks      | elapsed:   17.0s\n",
      "[Parallel(n_jobs=4)]: Done  54 out of  54 | elapsed:   24.0s finished\n"
     ]
    },
    {
     "name": "stdout",
     "output_type": "stream",
     "text": [
      "\n",
      "Best parameters set found on development set:\n",
      "\n",
      "{'classification__n_estimators': 250, 'classification__max_depth': 2}\n",
      "\n",
      "\n",
      "Grid scores on development set:\n",
      "\n",
      "[mean: 0.77096, std: 0.00878, params: {'classification__n_estimators': 50, 'classification__max_depth': 2}, mean: 0.77950, std: 0.01618, params: {'classification__n_estimators': 100, 'classification__max_depth': 2}, mean: 0.79037, std: 0.01063, params: {'classification__n_estimators': 150, 'classification__max_depth': 2}, mean: 0.78882, std: 0.01058, params: {'classification__n_estimators': 200, 'classification__max_depth': 2}, mean: 0.79270, std: 0.01000, params: {'classification__n_estimators': 250, 'classification__max_depth': 2}, mean: 0.79270, std: 0.00877, params: {'classification__n_estimators': 300, 'classification__max_depth': 2}, mean: 0.78028, std: 0.01899, params: {'classification__n_estimators': 50, 'classification__max_depth': 3}, mean: 0.78416, std: 0.01792, params: {'classification__n_estimators': 100, 'classification__max_depth': 3}, mean: 0.78571, std: 0.01332, params: {'classification__n_estimators': 150, 'classification__max_depth': 3}, mean: 0.78339, std: 0.00839, params: {'classification__n_estimators': 200, 'classification__max_depth': 3}, mean: 0.78571, std: 0.01332, params: {'classification__n_estimators': 250, 'classification__max_depth': 3}, mean: 0.78183, std: 0.00287, params: {'classification__n_estimators': 300, 'classification__max_depth': 3}, mean: 0.78339, std: 0.01323, params: {'classification__n_estimators': 50, 'classification__max_depth': 4}, mean: 0.78261, std: 0.01692, params: {'classification__n_estimators': 100, 'classification__max_depth': 4}, mean: 0.78416, std: 0.00648, params: {'classification__n_estimators': 150, 'classification__max_depth': 4}, mean: 0.78571, std: 0.00360, params: {'classification__n_estimators': 200, 'classification__max_depth': 4}, mean: 0.77252, std: 0.01197, params: {'classification__n_estimators': 250, 'classification__max_depth': 4}, mean: 0.77873, std: 0.01306, params: {'classification__n_estimators': 300, 'classification__max_depth': 4}]\n",
      "\n",
      "Used scorer:\t make_scorer(accuracy_score)\n",
      "\n",
      "Best score:\t 0.792701863354\n"
     ]
    }
   ],
   "source": [
    "# тестирование модели градиентного бустинга\n",
    "model = GradientBoostingClassifier(random_state=42)\n",
    "\n",
    "pipeline = Pipeline([\n",
    " \n",
    "    ('classification', model),\n",
    "])\n",
    "\n",
    "n_fold = 3\n",
    "param_grid = {'classification__n_estimators':[50, 100, 150, 200, 250, 300], 'classification__max_depth':[2,3,4]}     \n",
    "cv = KFold(n=df.shape[0], n_folds=n_fold, shuffle=True, random_state=42)\n",
    "    \n",
    "\n",
    "clf = GridSearchCV(estimator=pipeline, cv=cv, param_grid=param_grid, n_jobs=4, verbose=1, scoring=\"accuracy\")\n",
    "clf.fit(X_text, y) \n",
    "print(\"\\nBest parameters set found on development set:\\n\")\n",
    "print(clf.best_params_)\n",
    "print(\"\\n\\nGrid scores on development set:\\n\")\n",
    "means = clf.grid_scores_\n",
    "print(means)\n",
    "scorer = clf.scorer_\n",
    "print(\"\\nUsed scorer:\\t\", scorer)\n",
    "print(\"\\nBest score:\\t\", clf.best_score_)"
   ]
  },
  {
   "cell_type": "code",
   "execution_count": 11,
   "metadata": {
    "collapsed": false
   },
   "outputs": [
    {
     "name": "stdout",
     "output_type": "stream",
     "text": [
      "Fitting 3 folds for each of 24 candidates, totalling 72 fits\n"
     ]
    },
    {
     "name": "stderr",
     "output_type": "stream",
     "text": [
      "[Parallel(n_jobs=4)]: Done  42 tasks      | elapsed:   16.2s\n",
      "[Parallel(n_jobs=4)]: Done  72 out of  72 | elapsed:   23.7s finished\n"
     ]
    },
    {
     "name": "stdout",
     "output_type": "stream",
     "text": [
      "\n",
      "Best parameters set found on development set:\n",
      "\n",
      "{'classification__class_weight': 'balanced', 'classification__C': 200, 'classification__penalty': 'l1'}\n",
      "\n",
      "\n",
      "Grid scores on development set:\n",
      "\n",
      "[mean: 0.79658, std: 0.01597, params: {'classification__class_weight': 'balanced', 'classification__C': 50, 'classification__penalty': 'l1'}, mean: 0.79658, std: 0.01696, params: {'classification__class_weight': 'balanced', 'classification__C': 50, 'classification__penalty': 'l2'}, mean: 0.79503, std: 0.01606, params: {'classification__class_weight': None, 'classification__C': 50, 'classification__penalty': 'l1'}, mean: 0.79503, std: 0.01692, params: {'classification__class_weight': None, 'classification__C': 50, 'classification__penalty': 'l2'}, mean: 0.79658, std: 0.01597, params: {'classification__class_weight': 'balanced', 'classification__C': 100, 'classification__penalty': 'l1'}, mean: 0.79581, std: 0.01598, params: {'classification__class_weight': 'balanced', 'classification__C': 100, 'classification__penalty': 'l2'}, mean: 0.79503, std: 0.01606, params: {'classification__class_weight': None, 'classification__C': 100, 'classification__penalty': 'l1'}, mean: 0.79425, std: 0.01622, params: {'classification__class_weight': None, 'classification__C': 100, 'classification__penalty': 'l2'}, mean: 0.79736, std: 0.01604, params: {'classification__class_weight': 'balanced', 'classification__C': 150, 'classification__penalty': 'l1'}, mean: 0.79658, std: 0.01597, params: {'classification__class_weight': 'balanced', 'classification__C': 150, 'classification__penalty': 'l2'}, mean: 0.79658, std: 0.01597, params: {'classification__class_weight': None, 'classification__C': 150, 'classification__penalty': 'l1'}, mean: 0.79581, std: 0.01598, params: {'classification__class_weight': None, 'classification__C': 150, 'classification__penalty': 'l2'}, mean: 0.79814, std: 0.01618, params: {'classification__class_weight': 'balanced', 'classification__C': 200, 'classification__penalty': 'l1'}, mean: 0.79736, std: 0.01604, params: {'classification__class_weight': 'balanced', 'classification__C': 200, 'classification__penalty': 'l2'}, mean: 0.79658, std: 0.01597, params: {'classification__class_weight': None, 'classification__C': 200, 'classification__penalty': 'l1'}, mean: 0.79736, std: 0.01604, params: {'classification__class_weight': None, 'classification__C': 200, 'classification__penalty': 'l2'}, mean: 0.79814, std: 0.01618, params: {'classification__class_weight': 'balanced', 'classification__C': 250, 'classification__penalty': 'l1'}, mean: 0.79814, std: 0.01618, params: {'classification__class_weight': 'balanced', 'classification__C': 250, 'classification__penalty': 'l2'}, mean: 0.79658, std: 0.01597, params: {'classification__class_weight': None, 'classification__C': 250, 'classification__penalty': 'l1'}, mean: 0.79658, std: 0.01597, params: {'classification__class_weight': None, 'classification__C': 250, 'classification__penalty': 'l2'}, mean: 0.79736, std: 0.01604, params: {'classification__class_weight': 'balanced', 'classification__C': 300, 'classification__penalty': 'l1'}, mean: 0.79814, std: 0.01618, params: {'classification__class_weight': 'balanced', 'classification__C': 300, 'classification__penalty': 'l2'}, mean: 0.79581, std: 0.01598, params: {'classification__class_weight': None, 'classification__C': 300, 'classification__penalty': 'l1'}, mean: 0.79581, std: 0.01598, params: {'classification__class_weight': None, 'classification__C': 300, 'classification__penalty': 'l2'}]\n",
      "\n",
      "Used scorer:\t make_scorer(accuracy_score)\n",
      "\n",
      "Best score:\t 0.798136645963\n"
     ]
    }
   ],
   "source": [
    "# тестирование модели логистической регрессии\n",
    "model = LogisticRegression(random_state=42)\n",
    "\n",
    "pipeline = Pipeline([\n",
    " \n",
    "    ('classification', model),\n",
    "])\n",
    "\n",
    "n_fold = 3\n",
    "param_grid = {'classification__C':[50, 100, 150, 200, 250, 300],'classification__class_weight':['balanced', None], 'classification__penalty':['l1','l2']}     \n",
    "cv = KFold(n=df.shape[0], n_folds=n_fold, shuffle=True, random_state=42)\n",
    "    \n",
    "\n",
    "clf = GridSearchCV(estimator=pipeline, cv=cv, param_grid=param_grid, n_jobs=4, verbose=1, scoring=\"accuracy\")\n",
    "clf.fit(X_text, y) \n",
    "print(\"\\nBest parameters set found on development set:\\n\")\n",
    "print(clf.best_params_)\n",
    "print(\"\\n\\nGrid scores on development set:\\n\")\n",
    "means = clf.grid_scores_\n",
    "print(means)\n",
    "scorer = clf.scorer_\n",
    "print(\"\\nUsed scorer:\\t\", scorer)\n",
    "print(\"\\nBest score:\\t\", clf.best_score_)"
   ]
  },
  {
   "cell_type": "code",
   "execution_count": 42,
   "metadata": {
    "collapsed": true
   },
   "outputs": [],
   "source": [
    ""
   ]
  },
  {
   "cell_type": "code",
   "execution_count": 2,
   "metadata": {
    "collapsed": true
   },
   "outputs": [],
   "source": [
    ""
   ]
  },
  {
   "cell_type": "code",
   "execution_count": null,
   "metadata": {
    "collapsed": true
   },
   "outputs": [],
   "source": [
    ""
   ]
  },
  {
   "cell_type": "code",
   "execution_count": null,
   "metadata": {
    "collapsed": true
   },
   "outputs": [],
   "source": [
    ""
   ]
  }
 ],
 "metadata": {
  "anaconda-cloud": {},
  "kernelspec": {
   "display_name": "Python [Root]",
   "language": "python",
   "name": "Python [Root]"
  },
  "language_info": {
   "codemirror_mode": {
    "name": "ipython",
    "version": 3.0
   },
   "file_extension": ".py",
   "mimetype": "text/x-python",
   "name": "python",
   "nbconvert_exporter": "python",
   "pygments_lexer": "ipython3",
   "version": "3.5.2"
  }
 },
 "nbformat": 4,
 "nbformat_minor": 0
}